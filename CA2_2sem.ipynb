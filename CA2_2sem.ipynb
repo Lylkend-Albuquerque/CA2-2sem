{
 "cells": [
  {
   "cell_type": "markdown",
   "id": "037217cb",
   "metadata": {},
   "source": [
    "# Analysing any change sentiment that occurs over the time period detailed in the ProjectTweets Data set"
   ]
  },
  {
   "cell_type": "code",
   "execution_count": null,
   "id": "89448fce",
   "metadata": {},
   "outputs": [],
   "source": [
    "# Due the different version of python can be found and each machine or libriries \n",
    "# I just decided to use this library to avoid distraction and anoing warnigs\n",
    "import warnings\n",
    "warnings.filterwarnings(\"ignore\")"
   ]
  },
  {
   "cell_type": "code",
   "execution_count": null,
   "id": "3e3ba179",
   "metadata": {
    "scrolled": true
   },
   "outputs": [],
   "source": [
    "import pandas as pd\n",
    "import numpy as np\n",
    "import tensorflow as tf\n",
    "from sklearn.preprocessing import MinMaxScaler\n",
    "from tensorflow.keras.models import Sequential\n",
    "from tensorflow.keras.layers import LSTM, Dense\n",
    "from tensorflow.keras.optimizers import Adam"
   ]
  },
  {
   "cell_type": "markdown",
   "id": "dfab47dd",
   "metadata": {},
   "source": [
    "## Licence of use"
   ]
  },
  {
   "cell_type": "markdown",
   "id": "49e6416f",
   "metadata": {},
   "source": [
    "Working with ProjectTweets: That dataset was collected from CCT moddle \n",
    "https://moodle.cct.ie/pluginfile.php/57685/mod_assign/introattachment/0/ProjectTweets.csv?forcedownload=1\n",
    " <br>- Licence by Creative Commons Attribution 4.0 (CC BY 4.0) https://creativecommons.org/licenses/by/4.0/"
   ]
  },
  {
   "cell_type": "markdown",
   "id": "8e68325e",
   "metadata": {},
   "source": [
    "## About the dataset\n",
    "\n",
    "    -> This dataset contains 1,600,000 tweets extracted using the twitter api . \n",
    "\n",
    "     -> Content\n",
    "        It contains the following 5 fields:\n",
    "        •\tids: The id of the tweet (eg. 4587)\n",
    "        •\tdate: the date of the tweet (eg. Sat May 16 23:58:44 UTC 2009)\n",
    "        •\tflag: The query (eg. lyx). If there is no query, then this value is NO_QUERY.\n",
    "        •\tuser: the user that tweeted (eg. bobthebuilder)\n",
    "        •\ttext: the text of the tweet (eg. Lyx is cool)\n",
    "       "
   ]
  },
  {
   "cell_type": "code",
   "execution_count": null,
   "id": "943c23a9",
   "metadata": {},
   "outputs": [],
   "source": [
    "from pyspark.sql import SparkSession\n",
    "\n",
    "# Create a Spark session\n",
    "spark = SparkSession.builder \\\n",
    "    .appName(\"Twitter Data Analysis\") \\\n",
    "    .getOrCreate()"
   ]
  },
  {
   "cell_type": "code",
   "execution_count": null,
   "id": "14a94b2a",
   "metadata": {},
   "outputs": [],
   "source": [
    "# Load the dataset\n",
    "tweets_df = spark.read.csv('/home/hduser/CA2-2sem/ProjectTweets.csv', header=True, inferSchema=True)\n",
    "\n",
    "# Show the first few rows and print the schema\n",
    "tweets_df.show(5)\n",
    "tweets_df.printSchema()\n"
   ]
  },
  {
   "cell_type": "code",
   "execution_count": null,
   "id": "df9b4e72",
   "metadata": {},
   "outputs": [],
   "source": [
    "import pandas as pd\n",
    "df = pd.read_csv('/home/hduser/CA2-2sem/ProjectTweets.csv')\n",
    "df.to_json('path/to/your/output.json', orient='records', lines=True)"
   ]
  },
  {
   "cell_type": "code",
   "execution_count": null,
   "id": "d846b57e",
   "metadata": {},
   "outputs": [],
   "source": []
  }
 ],
 "metadata": {
  "kernelspec": {
   "display_name": "Python (CA1-2sem)",
   "language": "python",
   "name": "ca1-2sem"
  },
  "language_info": {
   "codemirror_mode": {
    "name": "ipython",
    "version": 3
   },
   "file_extension": ".py",
   "mimetype": "text/x-python",
   "name": "python",
   "nbconvert_exporter": "python",
   "pygments_lexer": "ipython3",
   "version": "3.11.6"
  }
 },
 "nbformat": 4,
 "nbformat_minor": 5
}
